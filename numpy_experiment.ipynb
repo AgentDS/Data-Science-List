{
 "cells": [
  {
   "cell_type": "code",
   "execution_count": 1,
   "metadata": {},
   "outputs": [],
   "source": [
    "import numpy as np\n",
    "from time import time"
   ]
  },
  {
   "cell_type": "code",
   "execution_count": 8,
   "metadata": {},
   "outputs": [],
   "source": [
    "def multiplies(num_multiplies):\n",
    "    number = 1\n",
    "    for i in range(num_multiplies):\n",
    "        number *= 1.0000001\n",
    "\n",
    "def multiplier_numpy(num_multiplies):\n",
    "    number = 1\n",
    "    number *= np.power(1.0000001, num_multiplies)\n",
    "\n",
    "def multiplies_experiment(num_multiplies):\n",
    "    print(\"++{} multiplies===>\".format(num_multiplies))\n",
    "    start = time()\n",
    "    multiplies(num_multiplies)\n",
    "    run_time = time() - start\n",
    "    print(\"Raw Python time: {:.5f}s\".format(run_time))\n",
    "    \n",
    "    start = time()\n",
    "    multiplier_numpy(num_multiplies)\n",
    "    run_time_numpy = time() - start\n",
    "    print(\"Numpy time: {:.5f}s\".format(run_time_numpy))\n",
    "    \n",
    "    print(\"Numpy speeds up {:.5f} times\\n\".format(run_time/run_time_numpy))\n"
   ]
  },
  {
   "cell_type": "code",
   "execution_count": 9,
   "metadata": {},
   "outputs": [
    {
     "name": "stdout",
     "output_type": "stream",
     "text": [
      "++1000 multiplies===>\n",
      "Raw Python time: 0.00008s\n",
      "Numpy time: 0.00003s\n",
      "Numpy speeds up 2.52174 times\n",
      "\n",
      "++2000 multiplies===>\n",
      "Raw Python time: 0.00020s\n",
      "Numpy time: 0.00003s\n",
      "Numpy speeds up 7.46903 times\n",
      "\n",
      "++10000 multiplies===>\n",
      "Raw Python time: 0.00103s\n",
      "Numpy time: 0.00003s\n",
      "Numpy speeds up 33.23846 times\n",
      "\n"
     ]
    }
   ],
   "source": [
    "multiplies_experiment(1000)\n",
    "multiplies_experiment(2000)\n",
    "multiplies_experiment(10000)"
   ]
  },
  {
   "cell_type": "code",
   "execution_count": null,
   "metadata": {},
   "outputs": [],
   "source": []
  }
 ],
 "metadata": {
  "kernelspec": {
   "display_name": "Python 3",
   "language": "python",
   "name": "python3"
  },
  "language_info": {
   "codemirror_mode": {
    "name": "ipython",
    "version": 3
   },
   "file_extension": ".py",
   "mimetype": "text/x-python",
   "name": "python",
   "nbconvert_exporter": "python",
   "pygments_lexer": "ipython3",
   "version": "3.6.8"
  }
 },
 "nbformat": 4,
 "nbformat_minor": 2
}
