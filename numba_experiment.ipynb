{
 "cells": [
  {
   "cell_type": "code",
   "execution_count": 1,
   "metadata": {},
   "outputs": [],
   "source": [
    "from time import time\n",
    "import numpy as np\n",
    "from numpy.random import randint\n",
    "from numba import jit, vectorize, int64"
   ]
  },
  {
   "cell_type": "markdown",
   "metadata": {},
   "source": [
    "## Basic Python Loop Speed-Up"
   ]
  },
  {
   "cell_type": "code",
   "execution_count": 2,
   "metadata": {},
   "outputs": [],
   "source": [
    "def insertion_sort(arr):\n",
    "    for i in range(len(arr)):\n",
    "        cursor = arr[i]\n",
    "        pos = i\n",
    "        while pos > 0 and arr[pos - 1] > cursor:\n",
    "            # Swap the number down the list\n",
    "            arr[pos] = arr[pos - 1]\n",
    "            pos = pos - 1\n",
    "        # Break and do the final swap\n",
    "        arr[pos] = cursor\n",
    "    return arr\n",
    "\n",
    "\n",
    "@jit(nopython=True)\n",
    "def insertion_sort_numba(arr):\n",
    "    for i in range(len(arr)):\n",
    "        cursor = arr[i]\n",
    "        pos = i\n",
    "        while pos > 0 and arr[pos - 1] > cursor:\n",
    "            # Swap the number down the list\n",
    "            arr[pos] = arr[pos - 1]\n",
    "            pos = pos - 1\n",
    "        # Break and do the final swap\n",
    "        arr[pos] = cursor\n",
    "    return arr\n",
    "\n",
    "def insertion_experiment(num_loops=50,len_of_list=100000):\n",
    "    arr = randint(0, 3000, size=len_of_list).tolist()\n",
    "    start = time()\n",
    "    for i in range(num_loops):\n",
    "        insertion_sort(arr)\n",
    "    run_time = time() - start\n",
    "    print(\"No Numba: Average time for {} elements = {:10.5f}s\".format(len_of_list, run_time / num_loops))\n",
    "\n",
    "    start = time()\n",
    "    for i in range(num_loops):\n",
    "        insertion_sort_numba(arr)\n",
    "    run_time_numba = time() - start\n",
    "    print(\"Numba: Average time for {} elements = {:10.5f}s\".format(len_of_list, run_time_numba / num_loops))\n",
    "    \n",
    "    print(\"Numba speeds up by {:5.0f} times\".format(run_time/run_time_numba))\n"
   ]
  },
  {
   "cell_type": "code",
   "execution_count": 13,
   "metadata": {},
   "outputs": [
    {
     "name": "stdout",
     "output_type": "stream",
     "text": [
      "No Numba: Average time for 50000 elements =    5.17141s\n",
      "Numba: Average time for 50000 elements =    0.00257s\n",
      "Numba speeds up by  2015 times\n"
     ]
    }
   ],
   "source": [
    "insertion_experiment(num_loops=30,len_of_list=50000)"
   ]
  },
  {
   "cell_type": "code",
   "execution_count": null,
   "metadata": {},
   "outputs": [],
   "source": []
  },
  {
   "cell_type": "markdown",
   "metadata": {},
   "source": [
    "## Numpy Operation Speed-Up"
   ]
  },
  {
   "cell_type": "code",
   "execution_count": 3,
   "metadata": {},
   "outputs": [],
   "source": [
    "def add_arrays(img1,img2,img3):\n",
    "    return np.square(img1 + img2 + img3)\n",
    "\n",
    "@vectorize([int64(int64,int64,int64)],target=\"parallel\")\n",
    "def add_arrays_numba_parallel(img1,img2,img3):\n",
    "    return np.square(img1 + img2 + img3)\n",
    "\n",
    "@vectorize([int64(int64,int64,int64)],target=\"cpu\")\n",
    "def add_arrays_numba_cpu(img1,img2,img3):\n",
    "    return np.square(img1 + img2 + img3)\n",
    "\n",
    "def add_arrays_experiment(N,num_loops):\n",
    "    img1 = np.ones((N, N), np.int64) * 5\n",
    "    img2 = np.ones((N, N), np.int64) * 10\n",
    "    img3 = np.ones((N, N), np.int64) * 15\n",
    "    \n",
    "    print(\"++Add & Square========>\")\n",
    "    \n",
    "    print(\"Data Size: {} MB\".format(img1.nbytes/(10**6)))\n",
    "    start = time()\n",
    "    for i in range(num_loops):\n",
    "        add_arrays(img1,img2,img3)\n",
    "    run_time = time() - start\n",
    "    print(\"No Numba: Average time for {}X{} images = {:10.5f}s\".format(N, N, run_time / num_loops))\n",
    "    \n",
    "    start = time()\n",
    "    for i in range(num_loops):\n",
    "        add_arrays_numba_parallel(img1,img2,img3)\n",
    "    run_time_numba_parallel = time() - start\n",
    "    print(\"Numba Parallel: Average time for {}X{} images = {:10.5f}s\".format(N, N, run_time_numba_parallel / num_loops))\n",
    "    \n",
    "    start = time()\n",
    "    for i in range(num_loops):\n",
    "        add_arrays_numba_cpu(img1,img2,img3)\n",
    "    run_time_numba_cpu = time() - start\n",
    "    print(\"Numba CPU: Average time for {}X{} images = {:10.5f}s\".format(N, N, run_time_numba_cpu / num_loops))\n",
    "    \n",
    "    print(\"Numba Parallel speeds up by {:5.5f} times\".format(run_time/run_time_numba_parallel))\n",
    "    print(\"Numba CPU speeds up by {:5.5f} times\".format(run_time/run_time_numba_cpu))"
   ]
  },
  {
   "cell_type": "code",
   "execution_count": 6,
   "metadata": {},
   "outputs": [
    {
     "name": "stdout",
     "output_type": "stream",
     "text": [
      "++Add & Square========>\n",
      "Data Size: 200.0 MB\n",
      "No Numba: Average time for 5000X5000 images =    0.31577s\n",
      "Numba Parallel: Average time for 5000X5000 images =    0.09357s\n",
      "Numba CPU: Average time for 5000X5000 images =    0.14734s\n",
      "Numba Parallel speeds up by 3.37466 times\n",
      "Numba CPU speeds up by 2.14318 times\n"
     ]
    }
   ],
   "source": [
    "add_arrays_experiment(5000,30)"
   ]
  },
  {
   "cell_type": "code",
   "execution_count": 7,
   "metadata": {},
   "outputs": [
    {
     "name": "stdout",
     "output_type": "stream",
     "text": [
      "++Add & Square========>\n",
      "Data Size: 8.0 MB\n",
      "No Numba: Average time for 1000X1000 images =    0.00756s\n",
      "Numba Parallel: Average time for 1000X1000 images =    0.00346s\n",
      "Numba CPU: Average time for 1000X1000 images =    0.00338s\n",
      "Numba Parallel speeds up by 2.18825 times\n",
      "Numba CPU speeds up by 2.23612 times\n"
     ]
    }
   ],
   "source": [
    "add_arrays_experiment(1000,30)"
   ]
  },
  {
   "cell_type": "code",
   "execution_count": 9,
   "metadata": {},
   "outputs": [
    {
     "name": "stdout",
     "output_type": "stream",
     "text": [
      "++Add & Square========>\n",
      "Data Size: 6.48 MB\n",
      "No Numba: Average time for 900X900 images =    0.00628s\n",
      "Numba Parallel: Average time for 900X900 images =    0.00315s\n",
      "Numba CPU: Average time for 900X900 images =    0.00294s\n",
      "Numba Parallel speeds up by 1.99539 times\n",
      "Numba CPU speeds up by 2.13672 times\n"
     ]
    }
   ],
   "source": [
    "add_arrays_experiment(900,30)"
   ]
  },
  {
   "cell_type": "markdown",
   "metadata": {},
   "source": [
    "CPU outperforms Parallel model on small data; Parallel model out performs CPU on large data"
   ]
  },
  {
   "cell_type": "code",
   "execution_count": null,
   "metadata": {},
   "outputs": [],
   "source": []
  }
 ],
 "metadata": {
  "kernelspec": {
   "display_name": "Python 3",
   "language": "python",
   "name": "python3"
  },
  "language_info": {
   "codemirror_mode": {
    "name": "ipython",
    "version": 3
   },
   "file_extension": ".py",
   "mimetype": "text/x-python",
   "name": "python",
   "nbconvert_exporter": "python",
   "pygments_lexer": "ipython3",
   "version": "3.6.8"
  }
 },
 "nbformat": 4,
 "nbformat_minor": 2
}
